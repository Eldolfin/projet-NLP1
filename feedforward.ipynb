{
 "cells": [
  {
   "cell_type": "code",
   "execution_count": 94,
   "id": "c47c029c",
   "metadata": {},
   "outputs": [
    {
     "data": {
      "text/plain": [
       "True"
      ]
     },
     "execution_count": 94,
     "metadata": {},
     "output_type": "execute_result"
    }
   ],
   "source": [
    "import torch\n",
    "from datasets import load_dataset\n",
    "import nltk\n",
    "from collections import Counter\n",
    "import itertools\n",
    "import numpy as np\n",
    "from torch.utils.data import TensorDataset, DataLoader\n",
    "import torch.nn as nn\n",
    "from sklearn.feature_extraction.text import TfidfVectorizer\n",
    "import matplotlib.pyplot as plt\n",
    "import matplotlib.ticker as ticker\n",
    "#from gensim.models import Word2Vec\n",
    "\n",
    "\n",
    "nltk.download(\"punkt_tab\", quiet=True)\n",
    "nltk.download(\"stopwords\", quiet=True)"
   ]
  },
  {
   "cell_type": "code",
   "execution_count": 2,
   "id": "3e9c11bd",
   "metadata": {},
   "outputs": [],
   "source": [
    "ds = load_dataset(\"AmazonScience/massive\", \"fr-FR\")\n",
    "class_name = \"scenario\"\n",
    "\n",
    "\n",
    "X_train = ds[\"train\"][\"utt\"]\n",
    "Y_train = ds[\"train\"][class_name]\n",
    "X_test = ds[\"test\"][\"utt\"]\n",
    "Y_test = ds[\"test\"][class_name]"
   ]
  },
  {
   "cell_type": "code",
   "execution_count": 76,
   "id": "5baa8f17",
   "metadata": {},
   "outputs": [],
   "source": [
    "#Hyperparameters\n",
    "h_dim = 100\n",
    "lr = 5e-4\n",
    "epochs = 10\n",
    "batch_size = 25\n",
    "\n",
    "activation_function = nn.functional.relu"
   ]
  },
  {
   "cell_type": "code",
   "execution_count": 117,
   "id": "48f5ea79",
   "metadata": {},
   "outputs": [],
   "source": [
    "X_train_tokenized = [nltk.word_tokenize(x) for x in X_train]\n",
    "X_test_tokenized = [nltk.word_tokenize(x) for x in X_test]\n",
    "\n",
    "#Create the word corpus to create embeddings\n",
    "corpus = Counter(list(itertools.chain(*X_train_tokenized)))\n",
    "corpus = sorted(corpus,key=corpus.get,reverse=True) #[:1000]\n",
    "onehot_dict = {w:i+1 for i,w in enumerate(corpus)}\n",
    "\n",
    "#Create the embeddings\n",
    "X_train_embeddings = [[onehot_dict[word] for word in sentence] for sentence in X_train_tokenized]\n",
    "#We only add the test embeddings if they are in the vocab - this is an issue of the method, unknown words won't be able to have meaning\n",
    "#We could also give it an arbitrary value, to be tested\n",
    "X_test_embeddings = [[onehot_dict[word] if word in onehot_dict else len(onehot_dict) for word in sentence] for sentence in X_test_tokenized]"
   ]
  },
  {
   "cell_type": "code",
   "execution_count": 5,
   "id": "dc23f14d",
   "metadata": {},
   "outputs": [],
   "source": [
    "#padding embedding vectors to max sentence length\n",
    "max_sentence_length = len(max(X_train_embeddings, key=len))\n",
    "X_train_padded = [np.pad(x, (0, max_sentence_length - len(x)), 'constant', constant_values=(0,0)) for x in X_train_embeddings]\n",
    "\n",
    "#truncate if needed before padding\n",
    "X_test_embeddings = [x[:max_sentence_length] for x in X_test_embeddings]\n",
    "X_test_padded = [np.pad(x, (0, max_sentence_length - len(x)), 'constant', constant_values=(0,0)) for x in X_test_embeddings]"
   ]
  },
  {
   "cell_type": "code",
   "execution_count": 6,
   "id": "e7f266e6",
   "metadata": {},
   "outputs": [
    {
     "name": "stderr",
     "output_type": "stream",
     "text": [
      "/tmp/ipykernel_9918/4167475810.py:2: UserWarning: Creating a tensor from a list of numpy.ndarrays is extremely slow. Please consider converting the list to a single numpy.ndarray with numpy.array() before converting to a tensor. (Triggered internally at /pytorch/torch/csrc/utils/tensor_new.cpp:254.)\n",
      "  train_data = TensorDataset(torch.tensor(X_train_padded), torch.tensor(Y_train))\n"
     ]
    }
   ],
   "source": [
    "#Load into Tensor format\n",
    "train_data = TensorDataset(torch.tensor(X_train_padded), torch.tensor(Y_train))\n",
    "test_data = TensorDataset(torch.tensor(X_test_padded), torch.tensor(Y_test))\n",
    "\n",
    "train_loader = DataLoader(train_data, shuffle=True, batch_size=batch_size)\n",
    "train_iter = iter(train_loader)"
   ]
  },
  {
   "cell_type": "code",
   "execution_count": 7,
   "id": "bd6b6e10",
   "metadata": {},
   "outputs": [],
   "source": [
    "#Model definition\n",
    "class Feedforward(nn.Module):\n",
    "    def __init__(self, input_dim, hidden_dim, output_dim, activation_function):\n",
    "        super().__init__()\n",
    "        self.fc1 = nn.Linear(input_dim, hidden_dim)\n",
    "        self.fc2 = nn.Linear(hidden_dim, output_dim)\n",
    "        self.activation_function = activation_function\n",
    "    \n",
    "    def forward(self, text):\n",
    "        hidden = self.fc1(text.float())\n",
    "        hidden = self.activation_function(hidden)\n",
    "\n",
    "        out = self.fc2(hidden)\n",
    "        return out"
   ]
  },
  {
   "cell_type": "code",
   "execution_count": null,
   "id": "956766c0",
   "metadata": {},
   "outputs": [],
   "source": [
    "def train(model, dataloader, optim, loss_fun, one_hot_encode=False):\n",
    "    model.train()\n",
    "    total_loss = 0\n",
    "    for sentences, labels in dataloader:\n",
    "        if one_hot_encode:\n",
    "            sentences = nn.functional.one_hot(torch.LongTensor(sentences), num_classes=len(onehot_dict) + 1)\n",
    "            sentences = torch.FloatTensor(sentences)\n",
    "        optim.zero_grad()\n",
    "        outputs = model.forward(sentences)\n",
    "        loss = loss_fun(outputs, labels)\n",
    "        loss.backward()\n",
    "        optim.step()\n",
    "\n",
    "        total_loss += loss.item()\n",
    "    \n",
    "    avg_loss = total_loss / len(train_loader)\n",
    "    return avg_loss"
   ]
  },
  {
   "cell_type": "code",
   "execution_count": 9,
   "id": "81647991",
   "metadata": {},
   "outputs": [],
   "source": [
    "#Function to evaluate a model's predictions. Returns (loss, accuracy)\n",
    "def evaluate(model, dataloader, loss_fun):\n",
    "    model.eval()\n",
    "    total_loss = 0\n",
    "    correct = 0\n",
    "    total = 0\n",
    "    for sentences, labels in dataloader:\n",
    "        outputs = model.forward(sentences)\n",
    "        loss = loss_fun(outputs, labels)\n",
    "        total_loss += loss.item()\n",
    "\n",
    "        #Calculate correct predictions for this batch\n",
    "        predictions = torch.argmax(outputs, dim=1)\n",
    "        correct += (predictions == labels).sum().item()\n",
    "        total += len(predictions)\n",
    "\n",
    "    avg_loss = total_loss / len(train_loader)\n",
    "    accuracy = correct / total\n",
    "    return avg_loss, accuracy"
   ]
  },
  {
   "cell_type": "code",
   "execution_count": 10,
   "id": "022d5c00",
   "metadata": {},
   "outputs": [
    {
     "ename": "KeyboardInterrupt",
     "evalue": "",
     "output_type": "error",
     "traceback": [
      "\u001b[31m---------------------------------------------------------------------------\u001b[39m",
      "\u001b[31mKeyboardInterrupt\u001b[39m                         Traceback (most recent call last)",
      "\u001b[36mCell\u001b[39m\u001b[36m \u001b[39m\u001b[32mIn[10]\u001b[39m\u001b[32m, line 6\u001b[39m\n\u001b[32m      3\u001b[39m optimizer = torch.optim.Adam(model_base.parameters(), lr=lr)\n\u001b[32m      5\u001b[39m \u001b[38;5;28;01mfor\u001b[39;00m epoch \u001b[38;5;129;01min\u001b[39;00m \u001b[38;5;28mrange\u001b[39m (\u001b[32m1\u001b[39m, epochs + \u001b[32m1\u001b[39m):\n\u001b[32m----> \u001b[39m\u001b[32m6\u001b[39m     loss = \u001b[43mtrain\u001b[49m\u001b[43m(\u001b[49m\u001b[43mmodel_base\u001b[49m\u001b[43m,\u001b[49m\u001b[43m \u001b[49m\u001b[43mtrain_loader\u001b[49m\u001b[43m,\u001b[49m\u001b[43m \u001b[49m\u001b[43moptimizer\u001b[49m\u001b[43m,\u001b[49m\u001b[43m \u001b[49m\u001b[43mloss_function\u001b[49m\u001b[43m)\u001b[49m\n\u001b[32m      7\u001b[39m     \u001b[38;5;28mprint\u001b[39m(\u001b[33mf\u001b[39m\u001b[33m\"\u001b[39m\u001b[33mEpoch \u001b[39m\u001b[38;5;132;01m{\u001b[39;00mepoch\u001b[38;5;132;01m}\u001b[39;00m\u001b[33m: loss = \u001b[39m\u001b[38;5;132;01m{\u001b[39;00mloss\u001b[38;5;132;01m}\u001b[39;00m\u001b[33m\"\u001b[39m)\n",
      "\u001b[36mCell\u001b[39m\u001b[36m \u001b[39m\u001b[32mIn[8]\u001b[39m\u001b[32m, line 8\u001b[39m, in \u001b[36mtrain\u001b[39m\u001b[34m(model, dataloader, optim, loss_fun)\u001b[39m\n\u001b[32m      6\u001b[39m outputs = model.forward(sentences)\n\u001b[32m      7\u001b[39m loss = loss_fun(outputs, labels)\n\u001b[32m----> \u001b[39m\u001b[32m8\u001b[39m \u001b[43mloss\u001b[49m\u001b[43m.\u001b[49m\u001b[43mbackward\u001b[49m\u001b[43m(\u001b[49m\u001b[43m)\u001b[49m\n\u001b[32m      9\u001b[39m optim.step()\n\u001b[32m     11\u001b[39m total_loss += loss.item()\n",
      "\u001b[36mFile \u001b[39m\u001b[32m~/epita/nlp/venv/lib/python3.13/site-packages/torch/_tensor.py:648\u001b[39m, in \u001b[36mTensor.backward\u001b[39m\u001b[34m(self, gradient, retain_graph, create_graph, inputs)\u001b[39m\n\u001b[32m    638\u001b[39m \u001b[38;5;28;01mif\u001b[39;00m has_torch_function_unary(\u001b[38;5;28mself\u001b[39m):\n\u001b[32m    639\u001b[39m     \u001b[38;5;28;01mreturn\u001b[39;00m handle_torch_function(\n\u001b[32m    640\u001b[39m         Tensor.backward,\n\u001b[32m    641\u001b[39m         (\u001b[38;5;28mself\u001b[39m,),\n\u001b[32m   (...)\u001b[39m\u001b[32m    646\u001b[39m         inputs=inputs,\n\u001b[32m    647\u001b[39m     )\n\u001b[32m--> \u001b[39m\u001b[32m648\u001b[39m \u001b[43mtorch\u001b[49m\u001b[43m.\u001b[49m\u001b[43mautograd\u001b[49m\u001b[43m.\u001b[49m\u001b[43mbackward\u001b[49m\u001b[43m(\u001b[49m\n\u001b[32m    649\u001b[39m \u001b[43m    \u001b[49m\u001b[38;5;28;43mself\u001b[39;49m\u001b[43m,\u001b[49m\u001b[43m \u001b[49m\u001b[43mgradient\u001b[49m\u001b[43m,\u001b[49m\u001b[43m \u001b[49m\u001b[43mretain_graph\u001b[49m\u001b[43m,\u001b[49m\u001b[43m \u001b[49m\u001b[43mcreate_graph\u001b[49m\u001b[43m,\u001b[49m\u001b[43m \u001b[49m\u001b[43minputs\u001b[49m\u001b[43m=\u001b[49m\u001b[43minputs\u001b[49m\n\u001b[32m    650\u001b[39m \u001b[43m\u001b[49m\u001b[43m)\u001b[49m\n",
      "\u001b[36mFile \u001b[39m\u001b[32m~/epita/nlp/venv/lib/python3.13/site-packages/torch/autograd/__init__.py:353\u001b[39m, in \u001b[36mbackward\u001b[39m\u001b[34m(tensors, grad_tensors, retain_graph, create_graph, grad_variables, inputs)\u001b[39m\n\u001b[32m    348\u001b[39m     retain_graph = create_graph\n\u001b[32m    350\u001b[39m \u001b[38;5;66;03m# The reason we repeat the same comment below is that\u001b[39;00m\n\u001b[32m    351\u001b[39m \u001b[38;5;66;03m# some Python versions print out the first line of a multi-line function\u001b[39;00m\n\u001b[32m    352\u001b[39m \u001b[38;5;66;03m# calls in the traceback and some print out the last line\u001b[39;00m\n\u001b[32m--> \u001b[39m\u001b[32m353\u001b[39m \u001b[43m_engine_run_backward\u001b[49m\u001b[43m(\u001b[49m\n\u001b[32m    354\u001b[39m \u001b[43m    \u001b[49m\u001b[43mtensors\u001b[49m\u001b[43m,\u001b[49m\n\u001b[32m    355\u001b[39m \u001b[43m    \u001b[49m\u001b[43mgrad_tensors_\u001b[49m\u001b[43m,\u001b[49m\n\u001b[32m    356\u001b[39m \u001b[43m    \u001b[49m\u001b[43mretain_graph\u001b[49m\u001b[43m,\u001b[49m\n\u001b[32m    357\u001b[39m \u001b[43m    \u001b[49m\u001b[43mcreate_graph\u001b[49m\u001b[43m,\u001b[49m\n\u001b[32m    358\u001b[39m \u001b[43m    \u001b[49m\u001b[43minputs\u001b[49m\u001b[43m,\u001b[49m\n\u001b[32m    359\u001b[39m \u001b[43m    \u001b[49m\u001b[43mallow_unreachable\u001b[49m\u001b[43m=\u001b[49m\u001b[38;5;28;43;01mTrue\u001b[39;49;00m\u001b[43m,\u001b[49m\n\u001b[32m    360\u001b[39m \u001b[43m    \u001b[49m\u001b[43maccumulate_grad\u001b[49m\u001b[43m=\u001b[49m\u001b[38;5;28;43;01mTrue\u001b[39;49;00m\u001b[43m,\u001b[49m\n\u001b[32m    361\u001b[39m \u001b[43m\u001b[49m\u001b[43m)\u001b[49m\n",
      "\u001b[36mFile \u001b[39m\u001b[32m~/epita/nlp/venv/lib/python3.13/site-packages/torch/autograd/graph.py:824\u001b[39m, in \u001b[36m_engine_run_backward\u001b[39m\u001b[34m(t_outputs, *args, **kwargs)\u001b[39m\n\u001b[32m    822\u001b[39m     unregister_hooks = _register_logging_hooks_on_whole_graph(t_outputs)\n\u001b[32m    823\u001b[39m \u001b[38;5;28;01mtry\u001b[39;00m:\n\u001b[32m--> \u001b[39m\u001b[32m824\u001b[39m     \u001b[38;5;28;01mreturn\u001b[39;00m \u001b[43mVariable\u001b[49m\u001b[43m.\u001b[49m\u001b[43m_execution_engine\u001b[49m\u001b[43m.\u001b[49m\u001b[43mrun_backward\u001b[49m\u001b[43m(\u001b[49m\u001b[43m  \u001b[49m\u001b[38;5;66;43;03m# Calls into the C++ engine to run the backward pass\u001b[39;49;00m\n\u001b[32m    825\u001b[39m \u001b[43m        \u001b[49m\u001b[43mt_outputs\u001b[49m\u001b[43m,\u001b[49m\u001b[43m \u001b[49m\u001b[43m*\u001b[49m\u001b[43margs\u001b[49m\u001b[43m,\u001b[49m\u001b[43m \u001b[49m\u001b[43m*\u001b[49m\u001b[43m*\u001b[49m\u001b[43mkwargs\u001b[49m\n\u001b[32m    826\u001b[39m \u001b[43m    \u001b[49m\u001b[43m)\u001b[49m  \u001b[38;5;66;03m# Calls into the C++ engine to run the backward pass\u001b[39;00m\n\u001b[32m    827\u001b[39m \u001b[38;5;28;01mfinally\u001b[39;00m:\n\u001b[32m    828\u001b[39m     \u001b[38;5;28;01mif\u001b[39;00m attach_logging_hooks:\n",
      "\u001b[31mKeyboardInterrupt\u001b[39m: "
     ]
    }
   ],
   "source": [
    "model_base = Feedforward(max_sentence_length, h_dim, 18, activation_function)\n",
    "loss_function = nn.CrossEntropyLoss()\n",
    "optimizer = torch.optim.Adam(model_base.parameters(), lr=lr)\n",
    "\n",
    "for epoch in range (1, epochs + 1):\n",
    "    loss = train(model_base, train_loader, optimizer, loss_function)\n",
    "    print(f\"Epoch {epoch}: loss = {loss}\")\n",
    "    "
   ]
  },
  {
   "cell_type": "code",
   "execution_count": 11,
   "id": "f44fec2e",
   "metadata": {},
   "outputs": [],
   "source": [
    "#USING TD-IDF\n",
    "#tf-idf version of the encoding:\n",
    "vectorizer = TfidfVectorizer()\n",
    "X_train_tfidf = torch.Tensor(vectorizer.fit_transform(X_train).toarray())\n",
    "X_test_tfidf = torch.Tensor(vectorizer.transform(X_test).toarray())\n",
    "\n",
    "train_data_tfidf = TensorDataset(X_train_tfidf, torch.tensor(Y_train))\n",
    "test_data_tfidf = TensorDataset(X_test_tfidf, torch.tensor(Y_test))\n",
    "train_loader_tfidf = DataLoader(train_data_tfidf, shuffle=True, batch_size=batch_size)\n",
    "test_loader_tfidf = DataLoader(test_data_tfidf, shuffle=True, batch_size=batch_size)"
   ]
  },
  {
   "cell_type": "code",
   "execution_count": 21,
   "id": "ed7aad9f",
   "metadata": {},
   "outputs": [
    {
     "name": "stdout",
     "output_type": "stream",
     "text": [
      "Epoch 1: loss = 2.3736631303961\n",
      "Epoch 2: loss = 1.2130047086779827\n",
      "Epoch 3: loss = 0.632274982048736\n",
      "Epoch 4: loss = 0.3952817688989019\n",
      "Epoch 5: loss = 0.27669062938969463\n",
      "Epoch 6: loss = 0.20648739082888254\n"
     ]
    },
    {
     "ename": "KeyboardInterrupt",
     "evalue": "",
     "output_type": "error",
     "traceback": [
      "\u001b[31m---------------------------------------------------------------------------\u001b[39m",
      "\u001b[31mKeyboardInterrupt\u001b[39m                         Traceback (most recent call last)",
      "\u001b[36mCell\u001b[39m\u001b[36m \u001b[39m\u001b[32mIn[21]\u001b[39m\u001b[32m, line 8\u001b[39m\n\u001b[32m      5\u001b[39m optimizer_tfidf = torch.optim.Adam(model_tfidf.parameters(), lr=lr)\n\u001b[32m      7\u001b[39m \u001b[38;5;28;01mfor\u001b[39;00m epoch \u001b[38;5;129;01min\u001b[39;00m \u001b[38;5;28mrange\u001b[39m (\u001b[32m1\u001b[39m, epochs + \u001b[32m1\u001b[39m):\n\u001b[32m----> \u001b[39m\u001b[32m8\u001b[39m     loss = \u001b[43mtrain\u001b[49m\u001b[43m(\u001b[49m\u001b[43mmodel_tfidf\u001b[49m\u001b[43m,\u001b[49m\u001b[43m \u001b[49m\u001b[43mtrain_loader_tfidf\u001b[49m\u001b[43m \u001b[49m\u001b[43m,\u001b[49m\u001b[43moptimizer_tfidf\u001b[49m\u001b[43m,\u001b[49m\u001b[43m \u001b[49m\u001b[43mloss_function_tfidf\u001b[49m\u001b[43m)\u001b[49m\n\u001b[32m      9\u001b[39m     \u001b[38;5;28mprint\u001b[39m(\u001b[33mf\u001b[39m\u001b[33m\"\u001b[39m\u001b[33mEpoch \u001b[39m\u001b[38;5;132;01m{\u001b[39;00mepoch\u001b[38;5;132;01m}\u001b[39;00m\u001b[33m: loss = \u001b[39m\u001b[38;5;132;01m{\u001b[39;00mloss\u001b[38;5;132;01m}\u001b[39;00m\u001b[33m\"\u001b[39m)\n",
      "\u001b[36mCell\u001b[39m\u001b[36m \u001b[39m\u001b[32mIn[10]\u001b[39m\u001b[32m, line 7\u001b[39m, in \u001b[36mtrain\u001b[39m\u001b[34m(model, dataloader, optim, loss_fun)\u001b[39m\n\u001b[32m      5\u001b[39m optim.zero_grad()\n\u001b[32m      6\u001b[39m outputs = model.forward(sentences)\n\u001b[32m----> \u001b[39m\u001b[32m7\u001b[39m loss = \u001b[43mloss_fun\u001b[49m\u001b[43m(\u001b[49m\u001b[43moutputs\u001b[49m\u001b[43m,\u001b[49m\u001b[43m \u001b[49m\u001b[43mlabels\u001b[49m\u001b[43m)\u001b[49m\n\u001b[32m      8\u001b[39m loss.backward()\n\u001b[32m      9\u001b[39m optim.step()\n",
      "\u001b[36mFile \u001b[39m\u001b[32m~/epita/nlp/venv/lib/python3.13/site-packages/torch/nn/modules/module.py:1751\u001b[39m, in \u001b[36mModule._wrapped_call_impl\u001b[39m\u001b[34m(self, *args, **kwargs)\u001b[39m\n\u001b[32m   1749\u001b[39m     \u001b[38;5;28;01mreturn\u001b[39;00m \u001b[38;5;28mself\u001b[39m._compiled_call_impl(*args, **kwargs)  \u001b[38;5;66;03m# type: ignore[misc]\u001b[39;00m\n\u001b[32m   1750\u001b[39m \u001b[38;5;28;01melse\u001b[39;00m:\n\u001b[32m-> \u001b[39m\u001b[32m1751\u001b[39m     \u001b[38;5;28;01mreturn\u001b[39;00m \u001b[38;5;28;43mself\u001b[39;49m\u001b[43m.\u001b[49m\u001b[43m_call_impl\u001b[49m\u001b[43m(\u001b[49m\u001b[43m*\u001b[49m\u001b[43margs\u001b[49m\u001b[43m,\u001b[49m\u001b[43m \u001b[49m\u001b[43m*\u001b[49m\u001b[43m*\u001b[49m\u001b[43mkwargs\u001b[49m\u001b[43m)\u001b[49m\n",
      "\u001b[36mFile \u001b[39m\u001b[32m~/epita/nlp/venv/lib/python3.13/site-packages/torch/nn/modules/module.py:1762\u001b[39m, in \u001b[36mModule._call_impl\u001b[39m\u001b[34m(self, *args, **kwargs)\u001b[39m\n\u001b[32m   1757\u001b[39m \u001b[38;5;66;03m# If we don't have any hooks, we want to skip the rest of the logic in\u001b[39;00m\n\u001b[32m   1758\u001b[39m \u001b[38;5;66;03m# this function, and just call forward.\u001b[39;00m\n\u001b[32m   1759\u001b[39m \u001b[38;5;28;01mif\u001b[39;00m \u001b[38;5;129;01mnot\u001b[39;00m (\u001b[38;5;28mself\u001b[39m._backward_hooks \u001b[38;5;129;01mor\u001b[39;00m \u001b[38;5;28mself\u001b[39m._backward_pre_hooks \u001b[38;5;129;01mor\u001b[39;00m \u001b[38;5;28mself\u001b[39m._forward_hooks \u001b[38;5;129;01mor\u001b[39;00m \u001b[38;5;28mself\u001b[39m._forward_pre_hooks\n\u001b[32m   1760\u001b[39m         \u001b[38;5;129;01mor\u001b[39;00m _global_backward_pre_hooks \u001b[38;5;129;01mor\u001b[39;00m _global_backward_hooks\n\u001b[32m   1761\u001b[39m         \u001b[38;5;129;01mor\u001b[39;00m _global_forward_hooks \u001b[38;5;129;01mor\u001b[39;00m _global_forward_pre_hooks):\n\u001b[32m-> \u001b[39m\u001b[32m1762\u001b[39m     \u001b[38;5;28;01mreturn\u001b[39;00m \u001b[43mforward_call\u001b[49m\u001b[43m(\u001b[49m\u001b[43m*\u001b[49m\u001b[43margs\u001b[49m\u001b[43m,\u001b[49m\u001b[43m \u001b[49m\u001b[43m*\u001b[49m\u001b[43m*\u001b[49m\u001b[43mkwargs\u001b[49m\u001b[43m)\u001b[49m\n\u001b[32m   1764\u001b[39m result = \u001b[38;5;28;01mNone\u001b[39;00m\n\u001b[32m   1765\u001b[39m called_always_called_hooks = \u001b[38;5;28mset\u001b[39m()\n",
      "\u001b[36mFile \u001b[39m\u001b[32m~/epita/nlp/venv/lib/python3.13/site-packages/torch/nn/modules/loss.py:1297\u001b[39m, in \u001b[36mCrossEntropyLoss.forward\u001b[39m\u001b[34m(self, input, target)\u001b[39m\n\u001b[32m   1296\u001b[39m \u001b[38;5;28;01mdef\u001b[39;00m\u001b[38;5;250m \u001b[39m\u001b[34mforward\u001b[39m(\u001b[38;5;28mself\u001b[39m, \u001b[38;5;28minput\u001b[39m: Tensor, target: Tensor) -> Tensor:\n\u001b[32m-> \u001b[39m\u001b[32m1297\u001b[39m     \u001b[38;5;28;01mreturn\u001b[39;00m \u001b[43mF\u001b[49m\u001b[43m.\u001b[49m\u001b[43mcross_entropy\u001b[49m\u001b[43m(\u001b[49m\n\u001b[32m   1298\u001b[39m \u001b[43m        \u001b[49m\u001b[38;5;28;43minput\u001b[39;49m\u001b[43m,\u001b[49m\n\u001b[32m   1299\u001b[39m \u001b[43m        \u001b[49m\u001b[43mtarget\u001b[49m\u001b[43m,\u001b[49m\n\u001b[32m   1300\u001b[39m \u001b[43m        \u001b[49m\u001b[43mweight\u001b[49m\u001b[43m=\u001b[49m\u001b[38;5;28;43mself\u001b[39;49m\u001b[43m.\u001b[49m\u001b[43mweight\u001b[49m\u001b[43m,\u001b[49m\n\u001b[32m   1301\u001b[39m \u001b[43m        \u001b[49m\u001b[43mignore_index\u001b[49m\u001b[43m=\u001b[49m\u001b[38;5;28;43mself\u001b[39;49m\u001b[43m.\u001b[49m\u001b[43mignore_index\u001b[49m\u001b[43m,\u001b[49m\n\u001b[32m   1302\u001b[39m \u001b[43m        \u001b[49m\u001b[43mreduction\u001b[49m\u001b[43m=\u001b[49m\u001b[38;5;28;43mself\u001b[39;49m\u001b[43m.\u001b[49m\u001b[43mreduction\u001b[49m\u001b[43m,\u001b[49m\n\u001b[32m   1303\u001b[39m \u001b[43m        \u001b[49m\u001b[43mlabel_smoothing\u001b[49m\u001b[43m=\u001b[49m\u001b[38;5;28;43mself\u001b[39;49m\u001b[43m.\u001b[49m\u001b[43mlabel_smoothing\u001b[49m\u001b[43m,\u001b[49m\n\u001b[32m   1304\u001b[39m \u001b[43m    \u001b[49m\u001b[43m)\u001b[49m\n",
      "\u001b[36mFile \u001b[39m\u001b[32m~/epita/nlp/venv/lib/python3.13/site-packages/torch/nn/functional.py:3494\u001b[39m, in \u001b[36mcross_entropy\u001b[39m\u001b[34m(input, target, weight, size_average, ignore_index, reduce, reduction, label_smoothing)\u001b[39m\n\u001b[32m   3492\u001b[39m \u001b[38;5;28;01mif\u001b[39;00m size_average \u001b[38;5;129;01mis\u001b[39;00m \u001b[38;5;129;01mnot\u001b[39;00m \u001b[38;5;28;01mNone\u001b[39;00m \u001b[38;5;129;01mor\u001b[39;00m reduce \u001b[38;5;129;01mis\u001b[39;00m \u001b[38;5;129;01mnot\u001b[39;00m \u001b[38;5;28;01mNone\u001b[39;00m:\n\u001b[32m   3493\u001b[39m     reduction = _Reduction.legacy_get_string(size_average, reduce)\n\u001b[32m-> \u001b[39m\u001b[32m3494\u001b[39m \u001b[38;5;28;01mreturn\u001b[39;00m \u001b[43mtorch\u001b[49m\u001b[43m.\u001b[49m\u001b[43m_C\u001b[49m\u001b[43m.\u001b[49m\u001b[43m_nn\u001b[49m\u001b[43m.\u001b[49m\u001b[43mcross_entropy_loss\u001b[49m\u001b[43m(\u001b[49m\n\u001b[32m   3495\u001b[39m \u001b[43m    \u001b[49m\u001b[38;5;28;43minput\u001b[39;49m\u001b[43m,\u001b[49m\n\u001b[32m   3496\u001b[39m \u001b[43m    \u001b[49m\u001b[43mtarget\u001b[49m\u001b[43m,\u001b[49m\n\u001b[32m   3497\u001b[39m \u001b[43m    \u001b[49m\u001b[43mweight\u001b[49m\u001b[43m,\u001b[49m\n\u001b[32m   3498\u001b[39m \u001b[43m    \u001b[49m\u001b[43m_Reduction\u001b[49m\u001b[43m.\u001b[49m\u001b[43mget_enum\u001b[49m\u001b[43m(\u001b[49m\u001b[43mreduction\u001b[49m\u001b[43m)\u001b[49m\u001b[43m,\u001b[49m\n\u001b[32m   3499\u001b[39m \u001b[43m    \u001b[49m\u001b[43mignore_index\u001b[49m\u001b[43m,\u001b[49m\n\u001b[32m   3500\u001b[39m \u001b[43m    \u001b[49m\u001b[43mlabel_smoothing\u001b[49m\u001b[43m,\u001b[49m\n\u001b[32m   3501\u001b[39m \u001b[43m\u001b[49m\u001b[43m)\u001b[49m\n",
      "\u001b[31mKeyboardInterrupt\u001b[39m: "
     ]
    }
   ],
   "source": [
    "#Train with tf-idf embeddings\n",
    "model_tfidf = Feedforward(X_train_tfidf.shape[1], h_dim, 18, activation_function)\n",
    "\n",
    "loss_function_tfidf = nn.CrossEntropyLoss()\n",
    "optimizer_tfidf = torch.optim.Adam(model_tfidf.parameters(), lr=lr)\n",
    "\n",
    "for epoch in range (1, epochs + 1):\n",
    "    loss = train(model_tfidf, train_loader_tfidf ,optimizer_tfidf, loss_function_tfidf)\n",
    "    print(f\"Epoch {epoch}: loss = {loss}\")\n",
    "    "
   ]
  },
  {
   "cell_type": "code",
   "execution_count": 115,
   "id": "19ff2c24",
   "metadata": {},
   "outputs": [
    {
     "name": "stdout",
     "output_type": "stream",
     "text": [
      "Evaluation with tf_idf: \n",
      "Loss = 0.10494832883623313, accuracy = 0.8863483523873571\n"
     ]
    }
   ],
   "source": [
    "loss_tfidf, accuracy_tfidf = evaluate(model_tfidf, test_loader_tfidf, loss_function_tfidf)\n",
    "print(f\"Evaluation with tf_idf: \\nLoss = {loss_tfidf}, accuracy = {accuracy_tfidf}\")"
   ]
  },
  {
   "cell_type": "code",
   "execution_count": null,
   "id": "a63473eb",
   "metadata": {},
   "outputs": [
    {
     "ename": "NameError",
     "evalue": "name 'Word2Vec' is not defined",
     "output_type": "error",
     "traceback": [
      "\u001b[31m---------------------------------------------------------------------------\u001b[39m",
      "\u001b[31mNameError\u001b[39m                                 Traceback (most recent call last)",
      "\u001b[36mCell\u001b[39m\u001b[36m \u001b[39m\u001b[32mIn[117]\u001b[39m\u001b[32m, line 2\u001b[39m\n\u001b[32m      1\u001b[39m \u001b[38;5;66;03m#USING WORD2VEC\u001b[39;00m\n\u001b[32m----> \u001b[39m\u001b[32m2\u001b[39m word2vec_encoder = \u001b[43mWord2Vec\u001b[49m(sentences=X_train_tokenized, vector_size=\u001b[32m100\u001b[39m, window=\u001b[32m5\u001b[39m, min_count=\u001b[32m1\u001b[39m, workers=\u001b[32m4\u001b[39m)\n\u001b[32m      4\u001b[39m X_train_data_word2vec = [np.mean([word2vec_encoder.wv[word] \u001b[38;5;28;01mfor\u001b[39;00m word \u001b[38;5;129;01min\u001b[39;00m x \u001b[38;5;28;01mif\u001b[39;00m word \u001b[38;5;129;01min\u001b[39;00m word2vec_encoder.wv]) \u001b[38;5;28;01mfor\u001b[39;00m x \u001b[38;5;129;01min\u001b[39;00m X_train_tokenized]\n",
      "\u001b[31mNameError\u001b[39m: name 'Word2Vec' is not defined"
     ]
    }
   ],
   "source": [
    "#USING WORD2VEC\n",
    "word2vec_encoder = Word2Vec(sentences=X_train_tokenized, vector_size=100, window=5, min_count=1, workers=4)\n",
    "\n",
    "X_train_data_word2vec = [np.mean([word2vec_encoder.wv[word] for word in x if word in word2vec_encoder.wv]) for x in X_train_tokenized]\n",
    "\n",
    "X_train_word2vec = torch.Tensor(X_train_data_word2vec)\n",
    "#X_test_word2vec = torch.Tensor()\n",
    "\n",
    "train_data_word2vec = TensorDataset(X_train_tfidf, torch.tensor(Y_train))\n",
    "#test_data_word2vec = TensorDataset(X_test_tfidf, torch.tensor(Y_test))\n",
    "train_loader_word2vec = DataLoader(train_data_tfidf, shuffle=True, batch_size=batch_size)\n",
    "#test_loader_word2vec = DataLoader(test_data_tfidf, shuffle=True, batch_size=batch_size)"
   ]
  },
  {
   "cell_type": "code",
   "execution_count": null,
   "id": "2dec428c",
   "metadata": {},
   "outputs": [],
   "source": [
    "#Train with word2vec embeddings\n",
    "model_word2vec = Feedforward(100, h_dim, 18, activation_function)\n",
    "\n",
    "loss_function_word2vec = nn.CrossEntropyLoss()\n",
    "optimizer_word2vec = torch.optim.Adam(model_word2vec.parameters(), lr=lr)\n",
    "\n",
    "for epoch in range (1, epochs + 1):\n",
    "    loss = train(model_word2vec, train_loader_word2vec ,optimizer_word2vec, loss_function_word2vec)\n",
    "    print(f\"Epoch {epoch}: loss = {loss}\")\n",
    "    "
   ]
  },
  {
   "cell_type": "code",
   "execution_count": 63,
   "id": "814fb807",
   "metadata": {},
   "outputs": [],
   "source": [
    "class RNN(nn.Module):\n",
    "    def __init__(self, input_dim, hidden_dim, output_dim):\n",
    "        super().__init__()\n",
    "        self.rnn = nn.RNN(input_dim, hidden_dim, bidirectional=False)\n",
    "        self.h2o = nn.Linear(hidden_dim, output_dim)\n",
    "        self.softmax = nn.LogSoftmax()\n",
    "\n",
    "    def forward(self, text):\n",
    "        rnn_output, hidden = self.rnn(text)\n",
    "        out = self.h2o(hidden)\n",
    "        out = self.softmax(out)\n",
    "        return out"
   ]
  },
  {
   "cell_type": "code",
   "execution_count": 31,
   "id": "b5ac3730",
   "metadata": {},
   "outputs": [],
   "source": [
    "#Prepare data doing onehot encoding\n",
    "#X_train_onehots = nn.functional.one_hot(torch.LongTensor(X_train_padded))\n",
    "#X_test_onehots = nn.functional.one_hot(torch.LongTensor(X_test_padded))\n",
    "\n",
    "train_data_onehot = TensorDataset(torch.LongTensor(X_train_padded), torch.tensor(Y_train))\n",
    "#test_data_onehot = TensorDataset(X_test_onehots, torch.tensor(Y_test))\n",
    "train_loader_onehot = DataLoader(train_data_onehot, shuffle=True, batch_size=batch_size)\n",
    "#test_loader_onehot = DataLoader(test_data_onehot, shuffle=True, batch_size=batch_size)"
   ]
  },
  {
   "cell_type": "code",
   "execution_count": 71,
   "id": "52353d26",
   "metadata": {},
   "outputs": [],
   "source": [
    "import random\n",
    "import numpy as np\n",
    "\n",
    "def train_full(rnn, training_data, labels, n_epoch = 10, n_batch_size = 64, report_every = 1, learning_rate = 0.2, criterion = nn.CrossEntropyLoss()):\n",
    "    \"\"\"\n",
    "    Learn on a batch of training_data for a specified number of iterations and reporting thresholds\n",
    "    \"\"\"\n",
    "    # Keep track of losses for plotting\n",
    "    current_loss = 0\n",
    "    all_losses = []\n",
    "    rnn.train()\n",
    "    optimizer = torch.optim.SGD(rnn.parameters(), lr=learning_rate)\n",
    "\n",
    "    print(f\"training on data set with n = {len(training_data)}\")\n",
    "\n",
    "    for iter in range(1, n_epoch + 1):\n",
    "        rnn.zero_grad() # clear the gradients\n",
    "\n",
    "        # create some minibatches\n",
    "        # we cannot use dataloaders because each of our names is a different length\n",
    "        batches = list(range(len(training_data)))\n",
    "        random.shuffle(batches)\n",
    "        batches = np.array_split(batches, len(batches) // n_batch_size)\n",
    "\n",
    "        for idx, batch in enumerate(batches):\n",
    "            batch_loss = 0\n",
    "            for i in batch: #for each example in this batch\n",
    "                input_tensor = nn.functional.one_hot(training_data[i], num_classes=len(onehot_dict) + 1)\n",
    "                output = rnn.forward(input_tensor.float())\n",
    "                loss = criterion(output[0], labels[i])\n",
    "                batch_loss += loss\n",
    "\n",
    "            # optimize parameters\n",
    "            batch_loss.backward()\n",
    "            nn.utils.clip_grad_norm_(rnn.parameters(), 3)\n",
    "            optimizer.step()\n",
    "            optimizer.zero_grad()\n",
    "\n",
    "            current_loss += batch_loss.item() / len(batch)\n",
    "\n",
    "        all_losses.append(current_loss / len(batches) )\n",
    "        if iter % report_every == 0:\n",
    "            print(f\"{iter} ({iter / n_epoch:.0%}): \\t average batch loss = {all_losses[-1]}\")\n",
    "        current_loss = 0\n",
    "\n",
    "    return all_losses"
   ]
  },
  {
   "cell_type": "code",
   "execution_count": 155,
   "id": "5242aade",
   "metadata": {},
   "outputs": [
    {
     "name": "stdout",
     "output_type": "stream",
     "text": [
      "training on data set with n = 11514\n"
     ]
    },
    {
     "name": "stderr",
     "output_type": "stream",
     "text": [
      "/home/luanico/epita/nlp/venv/lib/python3.13/site-packages/torch/nn/modules/module.py:1751: UserWarning: Implicit dimension choice for log_softmax has been deprecated. Change the call to include dim=X as an argument.\n",
      "  return self._call_impl(*args, **kwargs)\n"
     ]
    },
    {
     "name": "stdout",
     "output_type": "stream",
     "text": [
      "1 (2%): \t average batch loss = 2.472912135350664\n",
      "2 (4%): \t average batch loss = 2.0011095451814263\n",
      "3 (6%): \t average batch loss = 1.731072054936337\n",
      "4 (8%): \t average batch loss = 1.513111670318655\n",
      "5 (10%): \t average batch loss = 1.369294754647092\n",
      "6 (12%): \t average batch loss = 1.2509069336537126\n",
      "7 (14%): \t average batch loss = 1.132591946528508\n",
      "8 (16%): \t average batch loss = 1.0469787386221234\n",
      "9 (18%): \t average batch loss = 0.9638640122493383\n",
      "10 (20%): \t average batch loss = 0.887567630407404\n",
      "11 (22%): \t average batch loss = 0.8108307805364351\n",
      "12 (24%): \t average batch loss = 0.7502864451264862\n",
      "13 (26%): \t average batch loss = 0.7109376229841177\n",
      "14 (28%): \t average batch loss = 0.6413598623514969\n",
      "15 (30%): \t average batch loss = 0.6138460411722452\n",
      "16 (32%): \t average batch loss = 0.5703275142385809\n",
      "17 (34%): \t average batch loss = 0.5215671843397978\n",
      "18 (36%): \t average batch loss = 0.4848785761423338\n",
      "19 (38%): \t average batch loss = 0.4632323901286491\n",
      "20 (40%): \t average batch loss = 0.43600795117508984\n",
      "21 (42%): \t average batch loss = 0.4068363917440075\n",
      "22 (44%): \t average batch loss = 0.3819349184973186\n",
      "23 (46%): \t average batch loss = 0.3550739323239665\n",
      "24 (48%): \t average batch loss = 0.32509772784255414\n",
      "25 (50%): \t average batch loss = 0.3177073841617258\n",
      "26 (52%): \t average batch loss = 0.2983053721121721\n",
      "27 (54%): \t average batch loss = 0.2823741994920784\n",
      "28 (56%): \t average batch loss = 0.27350093564560585\n",
      "29 (58%): \t average batch loss = 0.2502116251043653\n",
      "30 (60%): \t average batch loss = 0.2516862706934728\n",
      "31 (62%): \t average batch loss = 0.23660957794185467\n",
      "32 (64%): \t average batch loss = 0.22708417912450513\n",
      "33 (66%): \t average batch loss = 0.2194876633129989\n",
      "34 (68%): \t average batch loss = 0.2065002060506656\n",
      "35 (70%): \t average batch loss = 0.195918147849897\n",
      "36 (72%): \t average batch loss = 0.20133132896465192\n",
      "37 (74%): \t average batch loss = 0.17850548321885804\n",
      "38 (76%): \t average batch loss = 0.18418359107546592\n",
      "39 (78%): \t average batch loss = 0.18568136082116174\n",
      "40 (80%): \t average batch loss = 0.17036788447734513\n",
      "41 (82%): \t average batch loss = 0.16894095993331035\n",
      "42 (84%): \t average batch loss = 0.16105522598739858\n",
      "43 (86%): \t average batch loss = 0.15617101003942283\n",
      "44 (88%): \t average batch loss = 0.15375229988374225\n",
      "45 (90%): \t average batch loss = 0.14439217505766\n",
      "46 (92%): \t average batch loss = 0.134777665205524\n",
      "47 (94%): \t average batch loss = 0.13217428423030717\n",
      "48 (96%): \t average batch loss = 0.1253095622998863\n",
      "49 (98%): \t average batch loss = 0.12529158893127906\n",
      "50 (100%): \t average batch loss = 0.12606496146739926\n"
     ]
    }
   ],
   "source": [
    "rnn = RNN(len(onehot_dict) + 1, h_dim, 18)\n",
    "\n",
    "losses = train_full(rnn, [torch.tensor(x) for x in X_train_embeddings], torch.tensor(Y_train),n_batch_size=25, learning_rate=0.1, n_epoch=50)"
   ]
  },
  {
   "cell_type": "code",
   "execution_count": 153,
   "id": "80ce0b86",
   "metadata": {},
   "outputs": [],
   "source": [
    "def evaluate_full(rnn, testing_data, labels, labels_tensor, classes):\n",
    "    confusion = torch.zeros(len(classes), len(classes))\n",
    "    total = 0\n",
    "    correct = 0\n",
    "\n",
    "    rnn.eval() #set to eval mode\n",
    "    with torch.no_grad(): # do not record the gradients during eval phase\n",
    "        for i in range(len(testing_data)):\n",
    "            input_tensor = nn.functional.one_hot(testing_data[i], num_classes=len(onehot_dict) + 1)\n",
    "            output = rnn(input_tensor.float())\n",
    "            guess_i = torch.argmax(output).item()\n",
    "            label_i = classes.index(labels[i])\n",
    "            confusion[label_i][guess_i] += 1\n",
    "            if guess_i == label_i:\n",
    "                correct += 1\n",
    "            total += 1\n",
    "\n",
    "    # Normalize by dividing every row by its sum\n",
    "    for i in range(len(classes)):\n",
    "        denom = confusion[i].sum()\n",
    "        if denom > 0:\n",
    "            confusion[i] = confusion[i] / denom\n",
    "\n",
    "    # Set up plot\n",
    "    fig = plt.figure()\n",
    "    ax = fig.add_subplot(111)\n",
    "    cax = ax.matshow(confusion.cpu().numpy()) #numpy uses cpu here so we need to use a cpu version\n",
    "    fig.colorbar(cax)\n",
    "\n",
    "    # Set up axes\n",
    "    ax.set_xticks(np.arange(len(classes)), labels=classes, rotation=90)\n",
    "    ax.set_yticks(np.arange(len(classes)), labels=classes)\n",
    "\n",
    "    # Force label at every tick\n",
    "    ax.xaxis.set_major_locator(ticker.MultipleLocator(1))\n",
    "    ax.yaxis.set_major_locator(ticker.MultipleLocator(1))\n",
    "\n",
    "    # sphinx_gallery_thumbnail_number = 2\n",
    "    plt.show()\n",
    "    return correct / total"
   ]
  },
  {
   "cell_type": "code",
   "execution_count": 156,
   "id": "daaaeeac",
   "metadata": {},
   "outputs": [
    {
     "data": {
      "image/png": "[encoded data removed]",
      "text/plain": [
       "<Figure size 640x480 with 2 Axes>"
      ]
     },
     "metadata": {},
     "output_type": "display_data"
    },
    {
     "name": "stdout",
     "output_type": "stream",
     "text": [
      "Evaluation with rnn: accuracy = 0.7360457296570275\n"
     ]
    }
   ],
   "source": [
    "_SCENARIOS = ['social', 'transport', 'calendar', 'play', 'news', 'datetime', 'recommendation', 'email',\n",
    "              'iot', 'general', 'audio', 'lists', 'qa', 'cooking', 'takeaway', 'music', 'alarm', 'weather']\n",
    "\n",
    "#test_in =  nn.functional.one_hot(torch.LongTensor(X_test_embeddings[5]), num_classes=len(onehot_dict) + 1)\n",
    "#label_from_output(rnn(test_in.float()), list(range(18)))\n",
    "\n",
    "accuracy_rnn = evaluate_full(rnn, [torch.LongTensor(x) for x in X_test_embeddings], Y_test, torch.tensor(Y_test), list(range(18)))\n",
    "\n",
    "print(f\"Evaluation with rnn: accuracy = {accuracy_rnn}\")"
   ]
  },
  {
   "cell_type": "code",
   "execution_count": null,
   "id": "ec8f25c5",
   "metadata": {},
   "outputs": [],
   "source": []
  }
 ],
 "metadata": {
  "kernelspec": {
   "display_name": "Python 3 (ipykernel)",
   "language": "python",
   "name": "python3"
  },
  "language_info": {
   "codemirror_mode": {
    "name": "ipython",
    "version": 3
   },
   "file_extension": ".py",
   "mimetype": "text/x-python",
   "name": "python",
   "nbconvert_exporter": "python",
   "pygments_lexer": "ipython3",
   "version": "3.13.2"
  }
 },
 "nbformat": 4,
 "nbformat_minor": 5
}
